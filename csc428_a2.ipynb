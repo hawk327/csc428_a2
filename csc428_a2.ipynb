{
 "cells": [
  {
   "cell_type": "markdown",
   "metadata": {},
   "source": [
    "**Uncomment the following lines (by deleting the leading `#`) if you are running this in Colab.**"
   ]
  },
    {
   "cell_type": "code",
   "execution_count": 1,
   "metadata": {},
   "outputs": [],
   "source": [
    "import numpy as np\n",
    "from scipy import stats\n",
    "import matplotlib.pyplot as plt\n",
    "from ipywidgets import interact\n",
    "%matplotlib inline"
   ]
  },
    {
   "cell_type": "markdown",
   "metadata": {},
   "source": [
    "## Begin the JOLT here"
   ]
  },
    {
   "cell_type": "markdown",
   "metadata": {},
   "source": [
    "## The experiment\n",
    "\n",
    "Suppose we are providing math students with explanations for a particular problem. After the student reads the explanation they can rate it as either \"good\" or \"bad\". Of course, we want to provide students with the best explanations so we want to learn whether one explanation is better than another one.\n",
    "\n",
    "Let's call our two explanations $A$ and $B$, and suppose they have an underlying true probability of being rated \"good\" to be $p_A=0.6$ and $p_B=0.3$ â€“ but, we do not know this underlying true probability.\n",
    "\n",
    "We provided these explanations to students in an experiment:"
   ]
  },
  {
   "cell_type": "code",
   "execution_count": 3,
   "metadata": {},
   "outputs": [],
   "source": [
    "exp_A = stats.bernoulli.rvs(p=0.6, size=30)\n",
    "exp_B = stats.bernoulli.rvs(p=0.3, size=20)"
   ]
  },
    {
   "cell_type": "code",
   "execution_count": 2,
   "metadata": {},
   "outputs": [],
   "source": [
    "np.random.seed(1)"
   ]
  },
    {
   "cell_type": "code",
   "execution_count": 3,
   "metadata": {},
   "outputs": [],
   "source": [
    "exp_A = stats.bernoulli.rvs(p=0.6, size=30)\n",
    "exp_B = stats.bernoulli.rvs(p=0.3, size=20)"
   ]
  },
  {
   "cell_type": "markdown",
   "metadata": {},
   "source": [
    "After the experiment, we collected these ratings from students. 1 is \"good\" and 0 is \"bad\".\n",
    "\n",
    "For the first explanation $A$ we got:"
   ]
  },
  {
   "cell_type": "code",
   "execution_count": 4,
   "metadata": {},
   "outputs": [
    {
     "data": {
      "text/plain": [
       "array([1, 0, 1, 1, 1, 1, 1, 1, 1, 1, 1, 0, 1, 0, 1, 0, 1, 1, 1, 1, 0, 0,\n",
       "       1, 0, 0, 0, 1, 1, 1, 0])"
      ]
     },
     "execution_count": 4,
     "metadata": {},
     "output_type": "execute_result"
    }
   ],
   "source": [
    "exp_A"
   ]
  },
  {
   "cell_type": "markdown",
   "metadata": {},
   "source": [
    "For the other explanation $B$ we got:"
   ]
  },
  {
   "cell_type": "code",
   "execution_count": 5,
   "metadata": {},
   "outputs": [
    {
     "data": {
      "text/plain": [
       "array([0, 0, 1, 0, 0, 0, 0, 1, 0, 1, 1, 1, 0, 1, 0, 0, 1, 0, 0, 0])"
      ]
     },
     "execution_count": 5,
     "metadata": {},
     "output_type": "execute_result"
    }
   ],
   "source": [
    "exp_B"
   ]
  },
  {
   "cell_type": "markdown",
   "metadata": {},
   "source": [
    "## What does the experiment show?\n",
    "\n",
    "First lets compute the means of the experiment outcomes, and their standard errors."
   ]
  },
  {
   "cell_type": "code",
   "execution_count": 6,
   "metadata": {},
   "outputs": [],
   "source": [
    "p_a = exp_A.mean()\n",
    "p_b = exp_B.mean()\n",
    "N_A = len(exp_A)\n",
    "N_B = len(exp_B)\n",
    "se_a = np.sqrt((p_a*(1-p_a))/N_A)\n",
    "se_b = np.sqrt((p_b*(1-p_b))/N_B)"
   ]
  },
  {
   "cell_type": "markdown",
   "metadata": {},
   "source": [
    "Now let's visualize the data.  We plot the mean outcomes as well as the standard error of the means, to illustrate uncertainty about the measurement."
   ]
  },
  {
   "cell_type": "markdown",
   "metadata": {},
   "source": [
    "## The experiment\n",
    "\n",
    "Suppose we are providing math students with explanations for a particular problem. After the student reads the explanation they can rate it as either \"good\" or \"bad\". Of course, we want to provide students with the best explanations so we want to learn whether one explanation is better than another one.\n",
    "\n",
    "Let's call our two explanations $A$ and $B$, and suppose they have an underlying true probability of being rated \"good\" to be $p_A=0.6$ and $p_B=0.3$ â€“ but, we do not know this underlying true probability.\n",
    "\n",
    "We provided these explanations to students in an experiment:"
   ]
  },
    {
   "cell_type": "markdown",
   "metadata": {},
   "source": [
    "## The Wald Test\n",
    "\n",
    "In general, for any test parameter $\\theta$ which is asymptotically Normal, the Wald test is a valid hypothesis test we can perform.\n",
    "\n",
    "First compute the value $W = \\frac{\\hat{\\theta} - \\theta_0}{\\hat{se}}$. If $|W| > z_{\\alpha/2}$ then you can reject the null hypothesis!\n",
    "\n",
    "Let's run the computation for our example and see what this means.\n",
    "\n",
    "### Computing the test parameter\n",
    "\n",
    "Our test parameter is $\\hat{\\delta} = \\hat{p_A} - \\hat{p_B}$, which is the _sample difference in means_. \n",
    "\n",
    "> The ^ \"hats\" denotes a sample quantity (what we actually observed -- an \"estimate\" of the theoretical value). \n",
    "> No hat refers to a theoretical quantity (which will forever be unknown, since it requires infinite data)"
   ]
  },
  {
   "cell_type": "code",
   "execution_count": 8,
   "metadata": {},
   "outputs": [
    {
     "name": "stdout",
     "output_type": "stream",
     "text": [
      "^delta = 0.3167\n"
     ]
    }
   ],
   "source": [
    "delta = p_a - p_b\n",
    "print(f'^delta = {delta:.4f}')"
   ]
  },
  {
   "cell_type": "markdown",
   "metadata": {},
   "source": [
    "### Compute the sample standard error\n",
    "\n",
    "Now that we're dealing with a difference in means, it's not the same standard error calculation as before. This time, it is computed as follows:\n",
    "$$\\hat{se} = \\sqrt{ \\frac{\\hat{p_A}(1-\\hat{p_A})}{N_A} + \\frac{\\hat{p_B}(1-\\hat{p_B})}{N_B}}$$"
   ]
  },
  {
   "cell_type": "code",
   "execution_count": 9,
   "metadata": {},
   "outputs": [
    {
     "name": "stdout",
     "output_type": "stream",
     "text": [
      "^se = 0.1370\n"
     ]
    }
   ],
   "source": [
    "se = np.sqrt((p_a*(1-p_a)) / N_A  +  (p_b*(1-p_b)) / N_B)\n",
    "print(f'^se = {se:.4f}')"
   ]
  },
  {
   "cell_type": "markdown",
   "metadata": {},
   "source": [
    "### Compute the test statistic\n",
    "\n",
    "This is the value of $W$"
   ]
  },
  {
   "cell_type": "code",
   "execution_count": 10,
   "metadata": {},
   "outputs": [
    {
     "name": "stdout",
     "output_type": "stream",
     "text": [
      "W = 2.3106\n"
     ]
    }
   ],
   "source": [
    "W = (delta - 0) / se\n",
    "print(f\"W = {W:.4f}\")"
   ]
  },
  {
   "cell_type": "markdown",
   "metadata": {},
   "source": [
    "### Find the appropriate z-score\n",
    "\n",
    "Supposing our alpha = 0.05"
   ]
  },
  {
   "cell_type": "code",
   "execution_count": 11,
   "metadata": {},
   "outputs": [
    {
     "name": "stdout",
     "output_type": "stream",
     "text": [
      "z_alpha/2 = 1.96\n"
     ]
    }
   ],
   "source": [
    "alpha = 0.05\n",
    "norm = stats.norm(loc=0, scale=1)\n",
    "z = norm.ppf(1-(alpha/2))\n",
    "print(f'z_alpha/2 = {z:.2f}') # this is a good z-score to memorize!"
   ]
  },
  {
   "cell_type": "markdown",
   "metadata": {},
   "source": [
    "### Run the hypothesis test!\n",
    "\n",
    "Can we reject the null hypothesis, and accept the alternative? Is one explanation better than the other?"
   ]
  },
  {
   "cell_type": "code",
   "execution_count": 12,
   "metadata": {},
   "outputs": [
    {
     "data": {
      "text/plain": [
       "True"
      ]
     },
     "execution_count": 12,
     "metadata": {},
     "output_type": "execute_result"
    }
   ],
   "source": [
    "abs(W) > z"
   ]
  },
  {
   "cell_type": "markdown",
   "metadata": {},
   "source": [
    "## What is the Wald test doing?\n",
    "\n",
    "With the Wald test, we computed $W$ and then did a comparison. What does this all mean?\n",
    "\n",
    "Recall: $W = \\frac{\\hat{\\theta} - \\theta_0}{\\hat{se}}$. If $|W| > z_{\\alpha/2}$ then you can reject the null hypothesis!\n",
    "\n",
    "### How does the Wald statistic work?\n",
    "\n",
    "Ultimately, it relies on the difference in means and the standard error.  Let's look at a few examples of this.\n",
    "\n",
    "Suppose we had the A/B conditions, our means (m) were very similar, and we collected a large sample size for each condition (n)."
   ]
  },
  {
   "cell_type": "code",
   "execution_count": 13,
   "metadata": {},
   "outputs": [],
   "source": [
    "mA = 0.53\n",
    "mB = 0.52\n",
    "nA = 199\n",
    "nB = 202"
   ]
  },
  {
   "cell_type": "code",
   "execution_count": 14,
   "metadata": {},
   "outputs": [
    {
     "name": "stdout",
     "output_type": "stream",
     "text": [
      "^delta = 0.0100, ^se = 0.0499\n"
     ]
    }
   ],
   "source": [
    "delta = mA - mB\n",
    "se = np.sqrt((mA*(1-mA)) / nA  +  (mB*(1-mB)) / nB)\n",
    "print(f'^delta = {delta:.4f}, ^se = {se:.4f}')"
   ]
  },
  {
   "cell_type": "markdown",
   "metadata": {},
   "source": [
    "With similar means and large samples, the Wald statistic will be small!"
   ]
  },
  {
   "cell_type": "code",
   "execution_count": 15,
   "metadata": {},
   "outputs": [
    {
     "name": "stdout",
     "output_type": "stream",
     "text": [
      "W = 0.2005\n"
     ]
    }
   ],
   "source": [
    "W = (delta - 0) / se\n",
    "print(f\"W = {W:.4f}\")"
   ]
  },
  {
   "cell_type": "markdown",
   "metadata": {},
   "source": [
    "Now suppose we had very different means in the A/B conditions."
   ]
  },
  {
   "cell_type": "code",
   "execution_count": 16,
   "metadata": {},
   "outputs": [
    {
     "name": "stdout",
     "output_type": "stream",
     "text": [
      "^delta = 0.5000, ^se = 0.0430\n"
     ]
    }
   ],
   "source": [
    "mA = 0.7\n",
    "mB = 0.2\n",
    "nA = 199\n",
    "nB = 202\n",
    "delta = mA - mB\n",
    "se = np.sqrt((mA*(1-mA)) / nA  +  (mB*(1-mB)) / nB)\n",
    "print(f'^delta = {delta:.4f}, ^se = {se:.4f}')"
   ]
  },
  {
   "cell_type": "markdown",
   "metadata": {},
   "source": [
    "With very different means the Wald statistic is very large!"
   ]
  },
  {
   "cell_type": "code",
   "execution_count": 17,
   "metadata": {},
   "outputs": [
    {
     "name": "stdout",
     "output_type": "stream",
     "text": [
      "W = 11.6331\n"
     ]
    }
   ],
   "source": [
    "W = (delta - 0) / se\n",
    "print(f\"W = {W:.4f}\")"
   ]
  },
  {
   "cell_type": "markdown",
   "metadata": {},
   "source": [
    "What if the means are still very different, but our sample size was very small?"
   ]
  },
  {
   "cell_type": "code",
   "execution_count": 18,
   "metadata": {},
   "outputs": [
    {
     "name": "stdout",
     "output_type": "stream",
     "text": [
      "^delta = 0.5000, ^se = 0.2620\n",
      "W = 1.9081\n"
     ]
    }
   ],
   "source": [
    "mA = 0.7\n",
    "mB = 0.2\n",
    "nA = 5\n",
    "nB = 6\n",
    "delta = mA - mB\n",
    "se = np.sqrt((mA*(1-mA)) / nA  +  (mB*(1-mB)) / nB)\n",
    "print(f'^delta = {delta:.4f}, ^se = {se:.4f}')\n",
    "W = (delta - 0) / se\n",
    "print(f\"W = {W:.4f}\")"
   ]
  },
  {
   "cell_type": "markdown",
   "metadata": {},
   "source": [
    "If the means are similar then the null hypothesis (that the means are the same) is quite likely to be true.  But if the means are very different then the null hypothesis is quite _unlikely_ to be true!\n",
    "\n",
    "On the other hand, if the means are different but the sample size is small, then it is quite possible that we got a fluke.  Thus, it is not so unlikely that the means would be extremely different in a small sample.\n",
    "\n",
    "The Wald statistic is therefore a measure of \"how extreme\" the difference in means is.  We will end up translating it to a probability that the evidence would be this extreme under the null hypothesis."
   ]
  },
  {
   "cell_type": "code",
   "execution_count": 19,
   "metadata": {},
   "outputs": [
    {
     "data": {
      "application/vnd.jupyter.widget-view+json": {
       "model_id": "de3bf05cd5ee4da39b2fc5b4860eeecd",
       "version_major": 2,
       "version_minor": 0
      },
      "text/plain": [
       "interactive(children=(FloatSlider(value=0.6, description='mA', max=1.0, step=0.05), FloatSlider(value=0.3, desâ€¦"
      ]
     },
     "metadata": {},
     "output_type": "display_data"
    }
   ],
   "source": [
    "@interact(mA=(0, 1, 0.05), mB=(0, 1, 0.05), nA=(1, 100), nB=(1,100))\n",
    "def wald_statistic_interact(mA=0.6, mB=0.3, nA=10, nB=10):\n",
    "    delta = mA - mB\n",
    "    se = np.sqrt((mA*(1-mA)) / nA  +  (mB*(1-mB)) / nB)\n",
    "    print(f'^delta = {delta:.4f}, ^se = {se:.4f}')\n",
    "    W = (delta - 0) / se\n",
    "    print(f\"W = {W:.4f}\")"
   ]
  },
  {
   "cell_type": "markdown",
   "metadata": {},
   "source": [
    "This simple notebook 428_a2 demonstrates how users can interleave text, code, and results in a single document. We start with a simple calculation -- computing the first 25 numbers in the Fibonacci sequence, where each value equals the sum of the two previous values. The Jupyter notebook allows us to express that mathematically, using the typesetting language $\\LaTeX{}$: $$F_n = F_{n-1} + F_{n-2}$$\n",
    "Thus, the sequence is: 0, 1, 1, 2, 3, 5, 8, ..."
   ]
  },
  {
   "cell_type": "markdown",
   "metadata": {},
   "source": [
    "Document our session, for [computational reproducibility](https://www.nature.com/articles/d41586-018-05990-5)!"
   ]
  },
  {
   "cell_type": "code",
   "execution_count": 1,
   "metadata": {},
   "outputs": [
    {
     "output_type": "stream",
     "name": "stdout",
     "text": [
      "{'commit_hash': '223e783c4',\n 'commit_source': 'installation',\n 'default_encoding': 'utf-8',\n 'ipython_path': 'C:\\\\Users\\\\Think1\\\\AppData\\\\Roaming\\\\Python\\\\Python37\\\\site-packages\\\\IPython',\n 'ipython_version': '7.19.0',\n 'os_name': 'nt',\n 'platform': 'Windows-10-10.0.18362-SP0',\n 'sys_executable': 'C:\\\\Users\\\\Think1\\\\AppData\\\\Local\\\\Programs\\\\Python\\\\Python37\\\\python.exe',\n 'sys_platform': 'win32',\n 'sys_version': '3.7.0 (v3.7.0:1bf9cc5093, Jun 27 2018, 04:59:51) [MSC v.1914 '\n                '64 bit (AMD64)]'}\n"
     ]
    }
   ],
   "source": [
    "import IPython\n",
    "print(IPython.sys_info())"
   ]
  },
  {
   "cell_type": "code",
   "execution_count": null,
   "metadata": {},
   "outputs": [],
   "source": []
  },
  {
   "cell_type": "code",
   "execution_count": null,
   "metadata": {},
   "outputs": [],
   "source": []
  }
 ],
 "metadata": {
  "kernelspec": {
   "name": "python3",
   "display_name": "Python 3.7.0 64-bit",
   "metadata": {
    "interpreter": {
     "hash": "08c7a701ff306d37b4048e7278db9301e9fffe8865cb7f4786568e0b52872d4e"
    }
   }
  },
  "language_info": {
   "codemirror_mode": {
    "name": "ipython",
    "version": 3
   },
   "file_extension": ".py",
   "mimetype": "text/x-python",
   "name": "python",
   "nbconvert_exporter": "python",
   "pygments_lexer": "ipython3",
   "version": "3.7.0-final"
  }
 },
 "nbformat": 4,
 "nbformat_minor": 4
}
